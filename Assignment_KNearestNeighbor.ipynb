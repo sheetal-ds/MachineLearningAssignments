{
 "cells": [
  {
   "cell_type": "code",
   "execution_count": 146,
   "id": "97315857",
   "metadata": {},
   "outputs": [],
   "source": [
    "from sklearn import datasets\n",
    "import pandas as pd\n",
    "import numpy as np\n",
    "from sklearn.linear_model import LogisticRegression, LinearRegression\n",
    "from sklearn.model_selection import train_test_split\n",
    "from sklearn.preprocessing import RobustScaler, StandardScaler\n",
    "from sklearn.metrics import confusion_matrix, classification_report\n",
    "import matplotlib.pyplot as plt\n",
    "import seaborn as sns\n",
    "from sklearn.neighbors import KNeighborsClassifier \n",
    "import random"
   ]
  },
  {
   "cell_type": "markdown",
   "id": "478548bd",
   "metadata": {},
   "source": [
    "### knn\n",
    "Using Iris dataset, How does the performance of k-nearest neighbors change as k takes on the following values: 1, 3, 5, 7? Which of these is the optimal value of k? Which distance/similarity metric did you choose to use and why?"
   ]
  },
  {
   "cell_type": "code",
   "execution_count": 188,
   "id": "fc1eef85",
   "metadata": {},
   "outputs": [
    {
     "data": {
      "text/plain": [
       "Setosa        50\n",
       "Versicolor    50\n",
       "Virginica     50\n",
       "Name: variety, dtype: int64"
      ]
     },
     "execution_count": 188,
     "metadata": {},
     "output_type": "execute_result"
    }
   ],
   "source": [
    "\n",
    "iris = pd.read_csv('iris.csv')\n",
    "iris['variety'].value_counts() ##There are 3 categories"
   ]
  },
  {
   "cell_type": "code",
   "execution_count": 189,
   "id": "d89e325e",
   "metadata": {},
   "outputs": [
    {
     "name": "stdout",
     "output_type": "stream",
     "text": [
      "<class 'pandas.core.frame.DataFrame'>\n",
      "RangeIndex: 150 entries, 0 to 149\n",
      "Data columns (total 5 columns):\n",
      " #   Column        Non-Null Count  Dtype  \n",
      "---  ------        --------------  -----  \n",
      " 0   sepal.length  150 non-null    float64\n",
      " 1   sepal.width   150 non-null    float64\n",
      " 2   petal.length  150 non-null    float64\n",
      " 3   petal.width   150 non-null    float64\n",
      " 4   variety       150 non-null    object \n",
      "dtypes: float64(4), object(1)\n",
      "memory usage: 6.0+ KB\n"
     ]
    },
    {
     "data": {
      "text/html": [
       "<div>\n",
       "<style scoped>\n",
       "    .dataframe tbody tr th:only-of-type {\n",
       "        vertical-align: middle;\n",
       "    }\n",
       "\n",
       "    .dataframe tbody tr th {\n",
       "        vertical-align: top;\n",
       "    }\n",
       "\n",
       "    .dataframe thead th {\n",
       "        text-align: right;\n",
       "    }\n",
       "</style>\n",
       "<table border=\"1\" class=\"dataframe\">\n",
       "  <thead>\n",
       "    <tr style=\"text-align: right;\">\n",
       "      <th></th>\n",
       "      <th>count</th>\n",
       "      <th>mean</th>\n",
       "      <th>std</th>\n",
       "      <th>min</th>\n",
       "      <th>25%</th>\n",
       "      <th>50%</th>\n",
       "      <th>75%</th>\n",
       "      <th>max</th>\n",
       "    </tr>\n",
       "  </thead>\n",
       "  <tbody>\n",
       "    <tr>\n",
       "      <th>sepal.length</th>\n",
       "      <td>150.0</td>\n",
       "      <td>5.843333</td>\n",
       "      <td>0.828066</td>\n",
       "      <td>4.3</td>\n",
       "      <td>5.1</td>\n",
       "      <td>5.80</td>\n",
       "      <td>6.4</td>\n",
       "      <td>7.9</td>\n",
       "    </tr>\n",
       "    <tr>\n",
       "      <th>sepal.width</th>\n",
       "      <td>150.0</td>\n",
       "      <td>3.057333</td>\n",
       "      <td>0.435866</td>\n",
       "      <td>2.0</td>\n",
       "      <td>2.8</td>\n",
       "      <td>3.00</td>\n",
       "      <td>3.3</td>\n",
       "      <td>4.4</td>\n",
       "    </tr>\n",
       "    <tr>\n",
       "      <th>petal.length</th>\n",
       "      <td>150.0</td>\n",
       "      <td>3.758000</td>\n",
       "      <td>1.765298</td>\n",
       "      <td>1.0</td>\n",
       "      <td>1.6</td>\n",
       "      <td>4.35</td>\n",
       "      <td>5.1</td>\n",
       "      <td>6.9</td>\n",
       "    </tr>\n",
       "    <tr>\n",
       "      <th>petal.width</th>\n",
       "      <td>150.0</td>\n",
       "      <td>1.199333</td>\n",
       "      <td>0.762238</td>\n",
       "      <td>0.1</td>\n",
       "      <td>0.3</td>\n",
       "      <td>1.30</td>\n",
       "      <td>1.8</td>\n",
       "      <td>2.5</td>\n",
       "    </tr>\n",
       "  </tbody>\n",
       "</table>\n",
       "</div>"
      ],
      "text/plain": [
       "              count      mean       std  min  25%   50%  75%  max\n",
       "sepal.length  150.0  5.843333  0.828066  4.3  5.1  5.80  6.4  7.9\n",
       "sepal.width   150.0  3.057333  0.435866  2.0  2.8  3.00  3.3  4.4\n",
       "petal.length  150.0  3.758000  1.765298  1.0  1.6  4.35  5.1  6.9\n",
       "petal.width   150.0  1.199333  0.762238  0.1  0.3  1.30  1.8  2.5"
      ]
     },
     "execution_count": 189,
     "metadata": {},
     "output_type": "execute_result"
    }
   ],
   "source": [
    "iris.info() \n",
    "##Looks like there are no missing values\n",
    "iris.describe().T\n",
    "##Looks like there are no outliers"
   ]
  },
  {
   "cell_type": "markdown",
   "id": "5bb190e4",
   "metadata": {},
   "source": [
    "Here, we have 150 observations, to check the performance I would split the dataset into 80% train and 20% test. \n",
    "Then, use Eucledian distances to classify each observation in training set into k classes. Then, check performance on testing dataset "
   ]
  },
  {
   "cell_type": "code",
   "execution_count": 190,
   "id": "1f5f28b0",
   "metadata": {},
   "outputs": [],
   "source": [
    "##Define X and Y variables - Y is class in which we want to classify out observations\n",
    "X = iris.iloc[:, :-1].values\n",
    "y = iris.iloc[:, 4].values"
   ]
  },
  {
   "cell_type": "code",
   "execution_count": 211,
   "id": "d846f13d",
   "metadata": {},
   "outputs": [],
   "source": [
    "#Split the datasets into train and test subsets\n",
    "import random\n",
    "random.seed(100)\n",
    "\n",
    "X_train, X_test, y_train, y_test = train_test_split(X, y, test_size=0.20) "
   ]
  },
  {
   "cell_type": "code",
   "execution_count": 212,
   "id": "fffd3491",
   "metadata": {},
   "outputs": [],
   "source": [
    "##First, let us scale all independent variables to avoid effects of varying scales on our model\n",
    "##I would be using Standard Scalar module \n",
    "scaler = StandardScaler()\n",
    "\n",
    "#Scaling Train and test datasets\n",
    "# Fit only on X_train\n",
    "scaler.fit(X_train)\n",
    "\n",
    "# Scale both X_train and X_test\n",
    "X_train = scaler.transform(X_train)\n",
    "X_test = scaler.transform(X_test)"
   ]
  },
  {
   "cell_type": "code",
   "execution_count": 213,
   "id": "8e27fcb0",
   "metadata": {},
   "outputs": [
    {
     "data": {
      "text/html": [
       "<div>\n",
       "<style scoped>\n",
       "    .dataframe tbody tr th:only-of-type {\n",
       "        vertical-align: middle;\n",
       "    }\n",
       "\n",
       "    .dataframe tbody tr th {\n",
       "        vertical-align: top;\n",
       "    }\n",
       "\n",
       "    .dataframe thead th {\n",
       "        text-align: right;\n",
       "    }\n",
       "</style>\n",
       "<table border=\"1\" class=\"dataframe\">\n",
       "  <thead>\n",
       "    <tr style=\"text-align: right;\">\n",
       "      <th></th>\n",
       "      <th>count</th>\n",
       "      <th>mean</th>\n",
       "      <th>std</th>\n",
       "      <th>min</th>\n",
       "      <th>25%</th>\n",
       "      <th>50%</th>\n",
       "      <th>75%</th>\n",
       "      <th>max</th>\n",
       "    </tr>\n",
       "  </thead>\n",
       "  <tbody>\n",
       "    <tr>\n",
       "      <th>sepal.length</th>\n",
       "      <td>120.0</td>\n",
       "      <td>-2.256528e-15</td>\n",
       "      <td>1.004193</td>\n",
       "      <td>-1.917308</td>\n",
       "      <td>-0.933022</td>\n",
       "      <td>-0.071771</td>\n",
       "      <td>0.666444</td>\n",
       "      <td>2.511982</td>\n",
       "    </tr>\n",
       "    <tr>\n",
       "      <th>sepal.width</th>\n",
       "      <td>120.0</td>\n",
       "      <td>-3.407922e-15</td>\n",
       "      <td>1.004193</td>\n",
       "      <td>-2.429278</td>\n",
       "      <td>-0.566573</td>\n",
       "      <td>-0.100897</td>\n",
       "      <td>0.597618</td>\n",
       "      <td>2.693161</td>\n",
       "    </tr>\n",
       "    <tr>\n",
       "      <th>petal.length</th>\n",
       "      <td>120.0</td>\n",
       "      <td>-5.097774e-16</td>\n",
       "      <td>1.004193</td>\n",
       "      <td>-1.616869</td>\n",
       "      <td>-1.267695</td>\n",
       "      <td>0.303587</td>\n",
       "      <td>0.769153</td>\n",
       "      <td>1.816674</td>\n",
       "    </tr>\n",
       "    <tr>\n",
       "      <th>petal.width</th>\n",
       "      <td>120.0</td>\n",
       "      <td>-5.255056e-16</td>\n",
       "      <td>1.004193</td>\n",
       "      <td>-1.505606</td>\n",
       "      <td>-1.231444</td>\n",
       "      <td>0.139366</td>\n",
       "      <td>0.824771</td>\n",
       "      <td>1.784338</td>\n",
       "    </tr>\n",
       "  </tbody>\n",
       "</table>\n",
       "</div>"
      ],
      "text/plain": [
       "              count          mean       std       min       25%       50%  \\\n",
       "sepal.length  120.0 -2.256528e-15  1.004193 -1.917308 -0.933022 -0.071771   \n",
       "sepal.width   120.0 -3.407922e-15  1.004193 -2.429278 -0.566573 -0.100897   \n",
       "petal.length  120.0 -5.097774e-16  1.004193 -1.616869 -1.267695  0.303587   \n",
       "petal.width   120.0 -5.255056e-16  1.004193 -1.505606 -1.231444  0.139366   \n",
       "\n",
       "                   75%       max  \n",
       "sepal.length  0.666444  2.511982  \n",
       "sepal.width   0.597618  2.693161  \n",
       "petal.length  0.769153  1.816674  \n",
       "petal.width   0.824771  1.784338  "
      ]
     },
     "execution_count": 213,
     "metadata": {},
     "output_type": "execute_result"
    }
   ],
   "source": [
    "#The scaler maintains only the data points, and not the column names, when applied on a dataframe\n",
    "col_names=['sepal.length', 'sepal.width','petal.length','petal.width']\n",
    "scaled_df = pd.DataFrame(X_train, columns=col_names)\n",
    "scaled_df.describe().T"
   ]
  },
  {
   "cell_type": "code",
   "execution_count": 214,
   "id": "36fac893",
   "metadata": {},
   "outputs": [
    {
     "name": "stdout",
     "output_type": "stream",
     "text": [
      "For k = 3 and p = 1 accuracy is : 0.9\n",
      "For k = 3 and p = 2 accuracy is : 0.9333333333333333\n",
      "For k = 3 and p = 3 accuracy is : 0.9333333333333333\n",
      "For k = 3 and p = 4 accuracy is : 0.9333333333333333\n",
      "For k = 3 and p = 5 accuracy is : 0.9333333333333333\n"
     ]
    }
   ],
   "source": [
    "random.seed(100)\n",
    "##Find the best distance measure using trying out different measures for same k:\n",
    "for p_measure in np.arange(1, 6):\n",
    "    knn = KNeighborsClassifier(n_neighbors=3, p = p_measure) \n",
    "    knn.fit(X_train, y_train)\n",
    "    print(\"For k = 3 and p = %d accuracy is :\"%p_measure,knn.score(X_test,y_test))   \n",
    "#Here we checked Manhattan distance, euclidean distance and minkowski distance with 3,4, and 5 powers"
   ]
  },
  {
   "cell_type": "code",
   "execution_count": 215,
   "id": "84fbc8f9",
   "metadata": {},
   "outputs": [
    {
     "name": "stdout",
     "output_type": "stream",
     "text": [
      "For k = 1 accuracy is 0.9333333333333333\n",
      "For k = 3 accuracy is 0.9333333333333333\n",
      "For k = 5 accuracy is 0.9333333333333333\n",
      "For k = 7 accuracy is 0.9666666666666667\n"
     ]
    }
   ],
   "source": [
    "#Calculate the accuracy of the model for different values of k with p =2 i.e. using Euclidean distance\n",
    "#define an array of k's\n",
    "for i in [1,3,5,7]:\n",
    "    knn2 = KNeighborsClassifier(n_neighbors=i) ##default p is 2 i.e. its using Euclidean distance measure\n",
    "    knn2.fit(X_train, y_train)\n",
    "    print(\"For k = %d accuracy is\"%i,knn2.score(X_test,y_test))"
   ]
  },
  {
   "cell_type": "markdown",
   "id": "9d3179c5",
   "metadata": {},
   "source": [
    "Which of these is the optimal value of k? Which distance/similarity metric did you choose to use and why?\n",
    "Answer: \n",
    "From above results, we get optimal results when k = 7. I used the Euclidean metrics because it is most widely used in knn. I also checked the performance of different distance measures manhattan, euclidean, minkowski - for Euclidean I got 97% accuracy at k = 7. which is higher than manhatten and equal to higher power minkowski\n"
   ]
  }
 ],
 "metadata": {
  "kernelspec": {
   "display_name": "Python 3 (ipykernel)",
   "language": "python",
   "name": "python3"
  },
  "language_info": {
   "codemirror_mode": {
    "name": "ipython",
    "version": 3
   },
   "file_extension": ".py",
   "mimetype": "text/x-python",
   "name": "python",
   "nbconvert_exporter": "python",
   "pygments_lexer": "ipython3",
   "version": "3.9.7"
  }
 },
 "nbformat": 4,
 "nbformat_minor": 5
}
